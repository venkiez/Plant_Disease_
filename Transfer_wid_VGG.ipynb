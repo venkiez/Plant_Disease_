{
 "cells": [
  {
   "cell_type": "code",
   "execution_count": 1,
   "metadata": {
    "_cell_guid": "b1076dfc-b9ad-4769-8c92-a6c4dae69d19",
    "_uuid": "8f2839f25d086af736a60e9eeb907d3b93b6e0e5"
   },
   "outputs": [],
   "source": [
    "import numpy as np\n",
    "import pandas as pd \n",
    "import os"
   ]
  },
  {
   "cell_type": "markdown",
   "metadata": {},
   "source": [
    "# Import required modules"
   ]
  },
  {
   "cell_type": "code",
   "execution_count": 2,
   "metadata": {
    "_cell_guid": "79c7e3d0-c299-4dcb-8224-4455121ee9b0",
    "_uuid": "d629ff2d2480ee46fbb7e2d37f6b5fab8052498a"
   },
   "outputs": [],
   "source": [
    "import tensorflow as tf\n",
    "import matplotlib.pyplot as plt\n",
    "from tensorflow.keras.preprocessing.image import ImageDataGenerator\n",
    "from tensorflow.keras import Input,Model\n",
    "from tensorflow.keras.layers import Dense,GlobalAveragePooling2D,Dropout\n",
    "from tensorflow.keras.callbacks import ModelCheckpoint"
   ]
  },
  {
   "cell_type": "markdown",
   "metadata": {},
   "source": [
    "# Input Data and Data Argumentation "
   ]
  },
  {
   "cell_type": "code",
   "execution_count": 3,
   "metadata": {},
   "outputs": [
    {
     "name": "stdout",
     "output_type": "stream",
     "text": [
      "Found 70295 images belonging to 38 classes.\n",
      "Found 17572 images belonging to 38 classes.\n"
     ]
    }
   ],
   "source": [
    "train_datagen=ImageDataGenerator(rescale=1./255,\n",
    "                                shear_range=0.2,\n",
    "                                zoom_range=0.2,\n",
    "                                width_shift_range=0.2,\n",
    "                                height_shift_range=0.2,\n",
    "                                fill_mode='nearest')\n",
    "\n",
    "valid_gen=ImageDataGenerator(rescale=1./255)\n",
    "\n",
    "batch_size=32\n",
    "base_dir=r\"C:\\Users\\psath\\OneDrive\\Desktop\\pd\\New Plant Diseases Dataset(Augmented)\\New Plant Diseases Dataset(Augmented)\"\n",
    "\n",
    "training_set=train_datagen.flow_from_directory(base_dir+'\\\\train',\n",
    "                                              target_size=(224,224),\n",
    "                                              batch_size=batch_size,\n",
    "                                              class_mode='categorical')\n",
    "\n",
    "valid_set=valid_gen.flow_from_directory(base_dir+'\\\\valid',\n",
    "                                       target_size=(224,224),\n",
    "                                       batch_size=batch_size,\n",
    "                                       class_mode='categorical')"
   ]
  },
  {
   "cell_type": "code",
   "execution_count": 4,
   "metadata": {},
   "outputs": [],
   "source": [
    "train_num=training_set.samples\n",
    "valid_num=valid_set.samples"
   ]
  },
  {
   "cell_type": "markdown",
   "metadata": {},
   "source": [
    "# Transfer Learning with VGG"
   ]
  },
  {
   "cell_type": "code",
   "execution_count": 5,
   "metadata": {},
   "outputs": [
    {
     "name": "stdout",
     "output_type": "stream",
     "text": [
      "Downloading data from https://storage.googleapis.com/tensorflow/keras-applications/vgg16/vgg16_weights_tf_dim_ordering_tf_kernels_notop.h5\n",
      "58892288/58889256 [==============================] - 1s 0us/step\n",
      "Model: \"vgg16\"\n",
      "_________________________________________________________________\n",
      "Layer (type)                 Output Shape              Param #   \n",
      "=================================================================\n",
      "input_1 (InputLayer)         [(None, 224, 224, 3)]     0         \n",
      "_________________________________________________________________\n",
      "block1_conv1 (Conv2D)        (None, 224, 224, 64)      1792      \n",
      "_________________________________________________________________\n",
      "block1_conv2 (Conv2D)        (None, 224, 224, 64)      36928     \n",
      "_________________________________________________________________\n",
      "block1_pool (MaxPooling2D)   (None, 112, 112, 64)      0         \n",
      "_________________________________________________________________\n",
      "block2_conv1 (Conv2D)        (None, 112, 112, 128)     73856     \n",
      "_________________________________________________________________\n",
      "block2_conv2 (Conv2D)        (None, 112, 112, 128)     147584    \n",
      "_________________________________________________________________\n",
      "block2_pool (MaxPooling2D)   (None, 56, 56, 128)       0         \n",
      "_________________________________________________________________\n",
      "block3_conv1 (Conv2D)        (None, 56, 56, 256)       295168    \n",
      "_________________________________________________________________\n",
      "block3_conv2 (Conv2D)        (None, 56, 56, 256)       590080    \n",
      "_________________________________________________________________\n",
      "block3_conv3 (Conv2D)        (None, 56, 56, 256)       590080    \n",
      "_________________________________________________________________\n",
      "block3_pool (MaxPooling2D)   (None, 28, 28, 256)       0         \n",
      "_________________________________________________________________\n",
      "block4_conv1 (Conv2D)        (None, 28, 28, 512)       1180160   \n",
      "_________________________________________________________________\n",
      "block4_conv2 (Conv2D)        (None, 28, 28, 512)       2359808   \n",
      "_________________________________________________________________\n",
      "block4_conv3 (Conv2D)        (None, 28, 28, 512)       2359808   \n",
      "_________________________________________________________________\n",
      "block4_pool (MaxPooling2D)   (None, 14, 14, 512)       0         \n",
      "_________________________________________________________________\n",
      "block5_conv1 (Conv2D)        (None, 14, 14, 512)       2359808   \n",
      "_________________________________________________________________\n",
      "block5_conv2 (Conv2D)        (None, 14, 14, 512)       2359808   \n",
      "_________________________________________________________________\n",
      "block5_conv3 (Conv2D)        (None, 14, 14, 512)       2359808   \n",
      "_________________________________________________________________\n",
      "block5_pool (MaxPooling2D)   (None, 7, 7, 512)         0         \n",
      "=================================================================\n",
      "Total params: 14,714,688\n",
      "Trainable params: 14,714,688\n",
      "Non-trainable params: 0\n",
      "_________________________________________________________________\n"
     ]
    }
   ],
   "source": [
    "base_model=tf.keras.applications.VGG16(include_top=False,\n",
    "                                      weights='imagenet',\n",
    "                                      input_shape=(224,224,3))\n",
    "base_model.summary()"
   ]
  },
  {
   "cell_type": "code",
   "execution_count": 6,
   "metadata": {},
   "outputs": [],
   "source": [
    "base_model.trainable=False"
   ]
  },
  {
   "cell_type": "code",
   "execution_count": 7,
   "metadata": {},
   "outputs": [
    {
     "name": "stdout",
     "output_type": "stream",
     "text": [
      "Model: \"vgg16\"\n",
      "_________________________________________________________________\n",
      "Layer (type)                 Output Shape              Param #   \n",
      "=================================================================\n",
      "input_1 (InputLayer)         [(None, 224, 224, 3)]     0         \n",
      "_________________________________________________________________\n",
      "block1_conv1 (Conv2D)        (None, 224, 224, 64)      1792      \n",
      "_________________________________________________________________\n",
      "block1_conv2 (Conv2D)        (None, 224, 224, 64)      36928     \n",
      "_________________________________________________________________\n",
      "block1_pool (MaxPooling2D)   (None, 112, 112, 64)      0         \n",
      "_________________________________________________________________\n",
      "block2_conv1 (Conv2D)        (None, 112, 112, 128)     73856     \n",
      "_________________________________________________________________\n",
      "block2_conv2 (Conv2D)        (None, 112, 112, 128)     147584    \n",
      "_________________________________________________________________\n",
      "block2_pool (MaxPooling2D)   (None, 56, 56, 128)       0         \n",
      "_________________________________________________________________\n",
      "block3_conv1 (Conv2D)        (None, 56, 56, 256)       295168    \n",
      "_________________________________________________________________\n",
      "block3_conv2 (Conv2D)        (None, 56, 56, 256)       590080    \n",
      "_________________________________________________________________\n",
      "block3_conv3 (Conv2D)        (None, 56, 56, 256)       590080    \n",
      "_________________________________________________________________\n",
      "block3_pool (MaxPooling2D)   (None, 28, 28, 256)       0         \n",
      "_________________________________________________________________\n",
      "block4_conv1 (Conv2D)        (None, 28, 28, 512)       1180160   \n",
      "_________________________________________________________________\n",
      "block4_conv2 (Conv2D)        (None, 28, 28, 512)       2359808   \n",
      "_________________________________________________________________\n",
      "block4_conv3 (Conv2D)        (None, 28, 28, 512)       2359808   \n",
      "_________________________________________________________________\n",
      "block4_pool (MaxPooling2D)   (None, 14, 14, 512)       0         \n",
      "_________________________________________________________________\n",
      "block5_conv1 (Conv2D)        (None, 14, 14, 512)       2359808   \n",
      "_________________________________________________________________\n",
      "block5_conv2 (Conv2D)        (None, 14, 14, 512)       2359808   \n",
      "_________________________________________________________________\n",
      "block5_conv3 (Conv2D)        (None, 14, 14, 512)       2359808   \n",
      "_________________________________________________________________\n",
      "block5_pool (MaxPooling2D)   (None, 7, 7, 512)         0         \n",
      "=================================================================\n",
      "Total params: 14,714,688\n",
      "Trainable params: 0\n",
      "Non-trainable params: 14,714,688\n",
      "_________________________________________________________________\n"
     ]
    }
   ],
   "source": [
    "base_model.summary()"
   ]
  },
  {
   "cell_type": "code",
   "execution_count": 8,
   "metadata": {},
   "outputs": [
    {
     "name": "stdout",
     "output_type": "stream",
     "text": [
      "Model: \"model\"\n",
      "_________________________________________________________________\n",
      "Layer (type)                 Output Shape              Param #   \n",
      "=================================================================\n",
      "input_2 (InputLayer)         [(None, 224, 224, 3)]     0         \n",
      "_________________________________________________________________\n",
      "vgg16 (Model)                (None, 7, 7, 512)         14714688  \n",
      "_________________________________________________________________\n",
      "global_average_pooling2d (Gl (None, 512)               0         \n",
      "_________________________________________________________________\n",
      "dense (Dense)                (None, 512)               262656    \n",
      "_________________________________________________________________\n",
      "dropout (Dropout)            (None, 512)               0         \n",
      "_________________________________________________________________\n",
      "dense_1 (Dense)              (None, 512)               262656    \n",
      "_________________________________________________________________\n",
      "dropout_1 (Dropout)          (None, 512)               0         \n",
      "_________________________________________________________________\n",
      "dense_2 (Dense)              (None, 38)                19494     \n",
      "=================================================================\n",
      "Total params: 15,259,494\n",
      "Trainable params: 544,806\n",
      "Non-trainable params: 14,714,688\n",
      "_________________________________________________________________\n"
     ]
    }
   ],
   "source": [
    "inputs=Input(shape=(224,224,3))\n",
    "x=base_model(inputs,training=False)\n",
    "x=GlobalAveragePooling2D()(x)\n",
    "x=Dense(512,activation='relu')(x)\n",
    "x=Dropout(0.2)(x)\n",
    "x=Dense(512,activation='relu')(x)\n",
    "x=Dropout(0.2)(x)\n",
    "outputs=Dense(38,activation='softmax')(x)\n",
    "\n",
    "\n",
    "vgg_model=Model(inputs,outputs)\n",
    "\n",
    "vgg_model.summary()"
   ]
  },
  {
   "cell_type": "code",
   "execution_count": 9,
   "metadata": {},
   "outputs": [],
   "source": [
    "vgg_model.compile(optimizer=tf.keras.optimizers.Adam(),\n",
    "             loss='categorical_crossentropy',\n",
    "             metrics=['accuracy'])"
   ]
  },
  {
   "cell_type": "code",
   "execution_count": 10,
   "metadata": {},
   "outputs": [
    {
     "data": {
      "text/plain": [
       "6"
      ]
     },
     "execution_count": 10,
     "metadata": {},
     "output_type": "execute_result"
    }
   ],
   "source": [
    "len(vgg_model.trainable_variables)"
   ]
  },
  {
   "cell_type": "code",
   "execution_count": 11,
   "metadata": {},
   "outputs": [
    {
     "name": "stdout",
     "output_type": "stream",
     "text": [
      "550/550 [==============================] - 72s 130ms/step - loss: 3.6983 - accuracy: 0.0186\n"
     ]
    },
    {
     "data": {
      "text/plain": [
       "[3.6983144283294678, 0.018609151244163513]"
      ]
     },
     "execution_count": 11,
     "metadata": {},
     "output_type": "execute_result"
    }
   ],
   "source": [
    "vgg_model.evaluate(valid_set)"
   ]
  },
  {
   "cell_type": "markdown",
   "metadata": {},
   "source": [
    "# Train the model"
   ]
  },
  {
   "cell_type": "code",
   "execution_count": 12,
   "metadata": {},
   "outputs": [
    {
     "name": "stdout",
     "output_type": "stream",
     "text": [
      "Epoch 1/15\n",
      "150/150 [==============================] - 79s 528ms/step - loss: 2.9487 - accuracy: 0.2052 - val_loss: 1.8998 - val_accuracy: 0.4197\n",
      "Epoch 2/15\n",
      "150/150 [==============================] - 78s 520ms/step - loss: 1.6170 - accuracy: 0.5031 - val_loss: 1.1576 - val_accuracy: 0.6356\n",
      "Epoch 3/15\n",
      "150/150 [==============================] - 77s 513ms/step - loss: 1.2345 - accuracy: 0.6106 - val_loss: 0.9528 - val_accuracy: 0.6856\n",
      "Epoch 4/15\n",
      "150/150 [==============================] - 77s 516ms/step - loss: 1.0450 - accuracy: 0.6587 - val_loss: 0.7467 - val_accuracy: 0.7616\n",
      "Epoch 5/15\n",
      "150/150 [==============================] - 78s 517ms/step - loss: 0.9384 - accuracy: 0.6988 - val_loss: 0.7878 - val_accuracy: 0.7391\n",
      "Epoch 6/15\n",
      "150/150 [==============================] - 76s 509ms/step - loss: 0.8428 - accuracy: 0.7256 - val_loss: 0.7110 - val_accuracy: 0.7634\n",
      "Epoch 7/15\n",
      "150/150 [==============================] - 76s 504ms/step - loss: 0.8419 - accuracy: 0.7248 - val_loss: 0.6394 - val_accuracy: 0.7891\n",
      "Epoch 8/15\n",
      "150/150 [==============================] - 76s 505ms/step - loss: 0.7817 - accuracy: 0.7429 - val_loss: 0.7469 - val_accuracy: 0.7509\n",
      "Epoch 9/15\n",
      "150/150 [==============================] - 75s 502ms/step - loss: 0.7439 - accuracy: 0.7525 - val_loss: 0.5783 - val_accuracy: 0.8081\n",
      "Epoch 10/15\n",
      "150/150 [==============================] - 75s 498ms/step - loss: 0.7146 - accuracy: 0.7621 - val_loss: 0.5592 - val_accuracy: 0.8163\n",
      "Epoch 11/15\n",
      "150/150 [==============================] - 74s 496ms/step - loss: 0.6799 - accuracy: 0.7775 - val_loss: 0.5591 - val_accuracy: 0.8156\n",
      "Epoch 12/15\n",
      "150/150 [==============================] - 75s 502ms/step - loss: 0.6537 - accuracy: 0.7835 - val_loss: 0.4813 - val_accuracy: 0.8391\n",
      "Epoch 13/15\n",
      "150/150 [==============================] - 74s 494ms/step - loss: 0.6379 - accuracy: 0.7869 - val_loss: 0.5688 - val_accuracy: 0.8075\n",
      "Epoch 14/15\n",
      "150/150 [==============================] - 74s 495ms/step - loss: 0.6141 - accuracy: 0.7992 - val_loss: 0.4739 - val_accuracy: 0.8413\n",
      "Epoch 15/15\n",
      "150/150 [==============================] - 73s 486ms/step - loss: 0.5902 - accuracy: 0.8029 - val_loss: 0.4638 - val_accuracy: 0.8456\n"
     ]
    }
   ],
   "source": [
    "weightpath='best_weights_9.hdf5'\n",
    "checkpoint = ModelCheckpoint(weightpath, monitor='val_acc', verbose=1, \n",
    "                             save_best_only=True, save_weights_only=True, mode='max')\n",
    "\n",
    "history=vgg_model.fit_generator(training_set,\n",
    "                        steps_per_epoch=150,\n",
    "                        epochs=15,\n",
    "                        validation_data=valid_set,\n",
    "                        validation_steps=100,\n",
    "                        callbacks=[checkpoint])"
   ]
  },
  {
   "cell_type": "code",
   "execution_count": 13,
   "metadata": {},
   "outputs": [
    {
     "name": "stdout",
     "output_type": "stream",
     "text": [
      "Epoch 1/15\n",
      "150/150 [==============================] - 72s 480ms/step - loss: 0.6118 - accuracy: 0.7992 - val_loss: 0.4399 - val_accuracy: 0.8575\n",
      "Epoch 2/15\n",
      "150/150 [==============================] - 72s 483ms/step - loss: 0.6101 - accuracy: 0.8006 - val_loss: 0.4882 - val_accuracy: 0.8319\n",
      "Epoch 3/15\n",
      "150/150 [==============================] - 73s 488ms/step - loss: 0.5729 - accuracy: 0.8079 - val_loss: 0.4666 - val_accuracy: 0.8422\n",
      "Epoch 4/15\n",
      "150/150 [==============================] - 73s 486ms/step - loss: 0.5731 - accuracy: 0.8027 - val_loss: 0.4407 - val_accuracy: 0.8475\n",
      "Epoch 5/15\n",
      "150/150 [==============================] - 72s 479ms/step - loss: 0.5456 - accuracy: 0.8192 - val_loss: 0.5211 - val_accuracy: 0.8284\n",
      "Epoch 6/15\n",
      "150/150 [==============================] - 72s 482ms/step - loss: 0.5158 - accuracy: 0.8279 - val_loss: 0.4536 - val_accuracy: 0.8487\n",
      "Epoch 7/15\n",
      "150/150 [==============================] - 72s 483ms/step - loss: 0.5476 - accuracy: 0.8198 - val_loss: 0.4464 - val_accuracy: 0.8519\n",
      "Epoch 8/15\n",
      "150/150 [==============================] - 72s 479ms/step - loss: 0.5337 - accuracy: 0.8231 - val_loss: 0.4745 - val_accuracy: 0.8447\n",
      "Epoch 9/15\n",
      "150/150 [==============================] - 72s 483ms/step - loss: 0.5129 - accuracy: 0.8298 - val_loss: 0.4164 - val_accuracy: 0.8600\n",
      "Epoch 10/15\n",
      "150/150 [==============================] - 72s 478ms/step - loss: 0.5072 - accuracy: 0.8306 - val_loss: 0.4591 - val_accuracy: 0.8478\n",
      "Epoch 11/15\n",
      "150/150 [==============================] - 72s 482ms/step - loss: 0.4761 - accuracy: 0.8380 - val_loss: 0.3735 - val_accuracy: 0.8756\n",
      "Epoch 12/15\n",
      "150/150 [==============================] - 72s 480ms/step - loss: 0.4990 - accuracy: 0.8292 - val_loss: 0.4122 - val_accuracy: 0.8622\n",
      "Epoch 13/15\n",
      "150/150 [==============================] - 71s 473ms/step - loss: 0.4933 - accuracy: 0.8296 - val_loss: 0.3460 - val_accuracy: 0.8859\n",
      "Epoch 14/15\n",
      "150/150 [==============================] - 72s 481ms/step - loss: 0.4823 - accuracy: 0.8431 - val_loss: 0.3526 - val_accuracy: 0.8728\n",
      "Epoch 15/15\n",
      "150/150 [==============================] - 71s 475ms/step - loss: 0.4969 - accuracy: 0.8388 - val_loss: 0.3188 - val_accuracy: 0.8984\n"
     ]
    }
   ],
   "source": [
    "history=vgg_model.fit_generator(training_set,\n",
    "                        steps_per_epoch=150,\n",
    "                        epochs=15,\n",
    "                        validation_data=valid_set,\n",
    "                        validation_steps=100,\n",
    "                        callbacks=[checkpoint])"
   ]
  },
  {
   "cell_type": "code",
   "execution_count": 14,
   "metadata": {},
   "outputs": [
    {
     "name": "stdout",
     "output_type": "stream",
     "text": [
      "Epoch 1/15\n",
      "150/150 [==============================] - 72s 478ms/step - loss: 0.4846 - accuracy: 0.8394 - val_loss: 0.3568 - val_accuracy: 0.8803\n",
      "Epoch 2/15\n",
      "150/150 [==============================] - 71s 472ms/step - loss: 0.4726 - accuracy: 0.8471 - val_loss: 0.4167 - val_accuracy: 0.8600\n",
      "Epoch 3/15\n",
      "150/150 [==============================] - 72s 481ms/step - loss: 0.4606 - accuracy: 0.8456 - val_loss: 0.3236 - val_accuracy: 0.8844\n",
      "Epoch 4/15\n",
      "150/150 [==============================] - 73s 484ms/step - loss: 0.4580 - accuracy: 0.8419 - val_loss: 0.3499 - val_accuracy: 0.8791\n",
      "Epoch 5/15\n",
      "150/150 [==============================] - 73s 485ms/step - loss: 0.4269 - accuracy: 0.8537 - val_loss: 0.3286 - val_accuracy: 0.8900\n",
      "Epoch 6/15\n",
      "150/150 [==============================] - 72s 483ms/step - loss: 0.4621 - accuracy: 0.8445 - val_loss: 0.3149 - val_accuracy: 0.8966\n",
      "Epoch 7/15\n",
      "150/150 [==============================] - 72s 477ms/step - loss: 0.4412 - accuracy: 0.8521 - val_loss: 0.3629 - val_accuracy: 0.8800\n",
      "Epoch 8/15\n",
      "150/150 [==============================] - 72s 479ms/step - loss: 0.4611 - accuracy: 0.8483 - val_loss: 0.3673 - val_accuracy: 0.8653\n",
      "Epoch 9/15\n",
      "150/150 [==============================] - 72s 483ms/step - loss: 0.4244 - accuracy: 0.8562 - val_loss: 0.3362 - val_accuracy: 0.8869\n",
      "Epoch 10/15\n",
      "150/150 [==============================] - 72s 479ms/step - loss: 0.4312 - accuracy: 0.8556 - val_loss: 0.3478 - val_accuracy: 0.8744\n",
      "Epoch 11/15\n",
      "150/150 [==============================] - 72s 480ms/step - loss: 0.4426 - accuracy: 0.8550 - val_loss: 0.3505 - val_accuracy: 0.8822\n",
      "Epoch 12/15\n",
      "150/150 [==============================] - 71s 475ms/step - loss: 0.4126 - accuracy: 0.8652 - val_loss: 0.3175 - val_accuracy: 0.8900\n",
      "Epoch 13/15\n",
      "150/150 [==============================] - 72s 479ms/step - loss: 0.4219 - accuracy: 0.8615 - val_loss: 0.2664 - val_accuracy: 0.9131\n",
      "Epoch 14/15\n",
      "150/150 [==============================] - 70s 470ms/step - loss: 0.4335 - accuracy: 0.8506 - val_loss: 0.3098 - val_accuracy: 0.8931\n",
      "Epoch 15/15\n",
      "150/150 [==============================] - 72s 481ms/step - loss: 0.4404 - accuracy: 0.8504 - val_loss: 0.3445 - val_accuracy: 0.8784\n"
     ]
    }
   ],
   "source": [
    "history=vgg_model.fit_generator(training_set,\n",
    "                        steps_per_epoch=150,\n",
    "                        epochs=15,\n",
    "                        validation_data=valid_set,\n",
    "                        validation_steps=100,\n",
    "                        callbacks=[checkpoint])"
   ]
  },
  {
   "cell_type": "markdown",
   "metadata": {},
   "source": [
    "# Fine Tuning"
   ]
  },
  {
   "cell_type": "code",
   "execution_count": 15,
   "metadata": {},
   "outputs": [
    {
     "name": "stdout",
     "output_type": "stream",
     "text": [
      "Model: \"model\"\n",
      "_________________________________________________________________\n",
      "Layer (type)                 Output Shape              Param #   \n",
      "=================================================================\n",
      "input_2 (InputLayer)         [(None, 224, 224, 3)]     0         \n",
      "_________________________________________________________________\n",
      "vgg16 (Model)                (None, 7, 7, 512)         14714688  \n",
      "_________________________________________________________________\n",
      "global_average_pooling2d (Gl (None, 512)               0         \n",
      "_________________________________________________________________\n",
      "dense (Dense)                (None, 512)               262656    \n",
      "_________________________________________________________________\n",
      "dropout (Dropout)            (None, 512)               0         \n",
      "_________________________________________________________________\n",
      "dense_1 (Dense)              (None, 512)               262656    \n",
      "_________________________________________________________________\n",
      "dropout_1 (Dropout)          (None, 512)               0         \n",
      "_________________________________________________________________\n",
      "dense_2 (Dense)              (None, 38)                19494     \n",
      "=================================================================\n",
      "Total params: 15,259,494\n",
      "Trainable params: 15,259,494\n",
      "Non-trainable params: 0\n",
      "_________________________________________________________________\n"
     ]
    }
   ],
   "source": [
    "base_model.trainable=True \n",
    "vgg_model.summary()"
   ]
  },
  {
   "cell_type": "code",
   "execution_count": 17,
   "metadata": {},
   "outputs": [
    {
     "name": "stdout",
     "output_type": "stream",
     "text": [
      "Epoch 1/10\n",
      "150/150 [==============================] - 81s 541ms/step - loss: 0.4236 - accuracy: 0.8627 - val_loss: 0.3258 - val_accuracy: 0.8891\n",
      "Epoch 2/10\n",
      "150/150 [==============================] - 81s 539ms/step - loss: 0.3407 - accuracy: 0.8838 - val_loss: 0.1751 - val_accuracy: 0.9394\n",
      "Epoch 3/10\n",
      "150/150 [==============================] - 80s 536ms/step - loss: 0.2946 - accuracy: 0.9019 - val_loss: 0.2235 - val_accuracy: 0.9191\n",
      "Epoch 4/10\n",
      "150/150 [==============================] - 80s 536ms/step - loss: 0.2565 - accuracy: 0.9075 - val_loss: 0.1980 - val_accuracy: 0.9309\n",
      "Epoch 5/10\n",
      "150/150 [==============================] - 81s 541ms/step - loss: 0.2391 - accuracy: 0.9213 - val_loss: 0.2124 - val_accuracy: 0.9306\n",
      "Epoch 6/10\n",
      "150/150 [==============================] - 81s 543ms/step - loss: 0.1980 - accuracy: 0.9337 - val_loss: 0.2316 - val_accuracy: 0.9187\n",
      "Epoch 7/10\n",
      "150/150 [==============================] - 81s 538ms/step - loss: 0.2173 - accuracy: 0.9254 - val_loss: 0.1623 - val_accuracy: 0.9475\n",
      "Epoch 8/10\n",
      "150/150 [==============================] - 81s 539ms/step - loss: 0.1858 - accuracy: 0.9388 - val_loss: 0.1588 - val_accuracy: 0.9406\n",
      "Epoch 9/10\n",
      "150/150 [==============================] - 81s 540ms/step - loss: 0.1854 - accuracy: 0.9365 - val_loss: 0.1517 - val_accuracy: 0.9491\n",
      "Epoch 10/10\n",
      "150/150 [==============================] - 81s 541ms/step - loss: 0.1697 - accuracy: 0.9404 - val_loss: 0.1110 - val_accuracy: 0.9619\n"
     ]
    }
   ],
   "source": [
    "vgg_model.compile(optimizer=tf.keras.optimizers.Adam(1e-5),\n",
    "                 loss='categorical_crossentropy',\n",
    "                 metrics=['accuracy'])\n",
    "\n",
    "fine_tune_history=vgg_model.fit_generator(training_set,\n",
    "                                        steps_per_epoch=150,\n",
    "                                        validation_data=valid_set,\n",
    "                                        epochs=10,\n",
    "                                        validation_steps=100)"
   ]
  },
  {
   "cell_type": "code",
   "execution_count": null,
   "metadata": {},
   "outputs": [],
   "source": []
  }
 ],
 "metadata": {
  "kernelspec": {
   "display_name": "Python 3 (ipykernel)",
   "language": "python",
   "name": "python3"
  },
  "language_info": {
   "codemirror_mode": {
    "name": "ipython",
    "version": 3
   },
   "file_extension": ".py",
   "mimetype": "text/x-python",
   "name": "python",
   "nbconvert_exporter": "python",
   "pygments_lexer": "ipython3",
   "version": "3.9.12"
  }
 },
 "nbformat": 4,
 "nbformat_minor": 4
}
